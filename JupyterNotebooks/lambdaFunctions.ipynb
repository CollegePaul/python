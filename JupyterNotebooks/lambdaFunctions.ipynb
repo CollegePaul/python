{
 "cells": [
  {
   "cell_type": "markdown",
   "id": "c23a6cc9",
   "metadata": {},
   "source": [
    "## Lambda Functions\n",
    "\n",
    "In this example we create a function to square a number. This function is assigned to a variable."
   ]
  },
  {
   "cell_type": "code",
   "execution_count": 3,
   "id": "dc5145c4",
   "metadata": {},
   "outputs": [
    {
     "name": "stdout",
     "output_type": "stream",
     "text": [
      "16\n"
     ]
    }
   ],
   "source": [
    "square = lambda x : x * x\n",
    "print (square(4))"
   ]
  },
  {
   "cell_type": "markdown",
   "id": "5c65bb89",
   "metadata": {},
   "source": [
    "Lambda function with more than 1 argument"
   ]
  },
  {
   "cell_type": "code",
   "execution_count": 12,
   "id": "56340804",
   "metadata": {
    "scrolled": false
   },
   "outputs": [
    {
     "name": "stdout",
     "output_type": "stream",
     "text": [
      "20\n"
     ]
    }
   ],
   "source": [
    "area = lambda l, w : l * w\n",
    "print (area(4,5))"
   ]
  },
  {
   "cell_type": "markdown",
   "id": "adf48a12",
   "metadata": {},
   "source": [
    "The power of Lambda comes from useing them as anonymous functions inside other functions"
   ]
  },
  {
   "cell_type": "code",
   "execution_count": 15,
   "id": "052bb19a",
   "metadata": {},
   "outputs": [
    {
     "name": "stdout",
     "output_type": "stream",
     "text": [
      "60\n"
     ]
    }
   ],
   "source": [
    "def myFunction(num):\n",
    "    return lambda a : a * num\n",
    "\n",
    "myDoublingFunction = myFunction(2)\n",
    "\n",
    "print(myDoublingFunction(30))"
   ]
  },
  {
   "cell_type": "markdown",
   "id": "862b4f48",
   "metadata": {},
   "source": [
    "The doubling function is called with 30, and this is applied the lambda"
   ]
  },
  {
   "cell_type": "code",
   "execution_count": 16,
   "id": "d19f9617",
   "metadata": {},
   "outputs": [
    {
     "name": "stdout",
     "output_type": "stream",
     "text": [
      "15\n"
     ]
    }
   ],
   "source": [
    "myTriple = myFunction(3)\n",
    "print(myTriple(5))\n"
   ]
  },
  {
   "cell_type": "markdown",
   "id": "7bda1bf9",
   "metadata": {},
   "source": [
    "We can see that we can apply the lamda and use it in other functions."
   ]
  }
 ],
 "metadata": {
  "celltoolbar": "Raw Cell Format",
  "kernelspec": {
   "display_name": "Python 3",
   "language": "python",
   "name": "python3"
  },
  "language_info": {
   "codemirror_mode": {
    "name": "ipython",
    "version": 3
   },
   "file_extension": ".py",
   "mimetype": "text/x-python",
   "name": "python",
   "nbconvert_exporter": "python",
   "pygments_lexer": "ipython3",
   "version": "3.8.8"
  }
 },
 "nbformat": 4,
 "nbformat_minor": 5
}
