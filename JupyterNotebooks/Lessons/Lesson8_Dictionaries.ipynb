{
 "cells": [
  {
   "cell_type": "markdown",
   "source": [
    "# Python dictionaries\r\n",
    "\r\n",
    "Dictionaries are used to store data in key value pairs."
   ],
   "metadata": {}
  },
  {
   "cell_type": "code",
   "execution_count": 2,
   "source": [
    "person = {\r\n",
    "    \"name\" : \"Paul\",\r\n",
    "    \"age\" : 48,\r\n",
    "    \"Occupation\" : \"Teacher\"\r\n",
    "}"
   ],
   "outputs": [],
   "metadata": {}
  },
  {
   "cell_type": "code",
   "execution_count": 3,
   "source": [
    "print(person)"
   ],
   "outputs": [
    {
     "output_type": "stream",
     "name": "stdout",
     "text": [
      "{'name': 'Paul', 'age': 48, 'Occupation': 'Teacher'}\n"
     ]
    }
   ],
   "metadata": {}
  },
  {
   "cell_type": "code",
   "execution_count": 5,
   "source": [
    "print(person[\"name\"])"
   ],
   "outputs": [
    {
     "output_type": "stream",
     "name": "stdout",
     "text": [
      "Paul\n"
     ]
    }
   ],
   "metadata": {}
  },
  {
   "cell_type": "code",
   "execution_count": null,
   "source": [
    "print(len(person))"
   ],
   "outputs": [],
   "metadata": {}
  },
  {
   "cell_type": "code",
   "execution_count": 8,
   "source": [
    "print(\"Keys:\")\r\n",
    "print(person.keys())\r\n",
    "\r\n",
    "print(\"Values:\")\r\n",
    "print(person.values())"
   ],
   "outputs": [
    {
     "output_type": "stream",
     "name": "stdout",
     "text": [
      "Keys:\n",
      "dict_keys(['name', 'age', 'Occupation'])\n",
      "Values:\n",
      "dict_values(['Paul', 48, 'Teacher'])\n"
     ]
    }
   ],
   "metadata": {}
  }
 ],
 "metadata": {
  "orig_nbformat": 4,
  "language_info": {
   "name": "python",
   "version": "3.9.5",
   "mimetype": "text/x-python",
   "codemirror_mode": {
    "name": "ipython",
    "version": 3
   },
   "pygments_lexer": "ipython3",
   "nbconvert_exporter": "python",
   "file_extension": ".py"
  },
  "kernelspec": {
   "name": "python3",
   "display_name": "Python 3.9.5 64-bit"
  },
  "interpreter": {
   "hash": "fcf1d46d271c46101d6967829d4a5f475342a2ce08e4944f989fbcdc9bb23690"
  }
 },
 "nbformat": 4,
 "nbformat_minor": 2
}