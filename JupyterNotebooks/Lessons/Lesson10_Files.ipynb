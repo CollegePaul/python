{
 "cells": [
  {
   "cell_type": "markdown",
   "source": [
    "# File input and output"
   ],
   "metadata": {}
  },
  {
   "cell_type": "markdown",
   "source": [
    "## A function to open a file and add a name to it"
   ],
   "metadata": {}
  },
  {
   "cell_type": "code",
   "execution_count": 1,
   "source": [
    "def add_name(name):\r\n",
    "  with open(\"out.txt\", mode='a') as f:\r\n",
    "    f.write(name + \"\\n\")"
   ],
   "outputs": [],
   "metadata": {}
  },
  {
   "cell_type": "markdown",
   "source": [
    "## A function to open a file and print out line by line"
   ],
   "metadata": {}
  },
  {
   "cell_type": "code",
   "execution_count": 2,
   "source": [
    "def print_file():\r\n",
    "  with open(\"out.txt\") as f:\r\n",
    "    lines = f.readlines()\r\n",
    "  \r\n",
    "  for line in lines:\r\n",
    "    print(line)"
   ],
   "outputs": [],
   "metadata": {}
  },
  {
   "cell_type": "markdown",
   "source": [
    "## Adding a name to the file\r\n",
    "\r\n",
    "This programme will always run until you type 'q', then it will 'break' out of the loop.\r\n",
    "The programme will send your text to the function above to add it to the file.\r\n",
    "\r\n",
    "The last line will print the file out."
   ],
   "metadata": {}
  },
  {
   "cell_type": "code",
   "execution_count": null,
   "source": [
    "while True:\r\n",
    "  text = input(\"Name to add (q to quit): \")\r\n",
    "  if text == \"q\":\r\n",
    "    break\r\n",
    "  else:\r\n",
    "    add_name(text)\r\n",
    "\r\n",
    "print_file()"
   ],
   "outputs": [],
   "metadata": {}
  }
 ],
 "metadata": {
  "orig_nbformat": 4,
  "language_info": {
   "name": "python",
   "version": "3.9.5",
   "mimetype": "text/x-python",
   "codemirror_mode": {
    "name": "ipython",
    "version": 3
   },
   "pygments_lexer": "ipython3",
   "nbconvert_exporter": "python",
   "file_extension": ".py"
  },
  "kernelspec": {
   "name": "python3",
   "display_name": "Python 3.9.5 64-bit"
  },
  "interpreter": {
   "hash": "ee5cc6fef2d70a7e71ee3826687cbd150f18158e0b1eef11d4f4f92bb920e304"
  }
 },
 "nbformat": 4,
 "nbformat_minor": 2
}