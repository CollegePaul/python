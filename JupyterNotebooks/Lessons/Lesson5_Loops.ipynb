{
 "cells": [
  {
   "cell_type": "markdown",
   "source": [
    "# Loops\n",
    "\n",
    "Sometime you will need to loop over some code many times. This makes performing the same task on data much easier to program."
   ],
   "metadata": {}
  },
  {
   "cell_type": "code",
   "execution_count": 1,
   "source": [
    "#count from 1 to 5\n",
    "for i in range(1,6):\n",
    "    print(i)"
   ],
   "outputs": [
    {
     "output_type": "stream",
     "name": "stdout",
     "text": [
      "1\n",
      "2\n",
      "3\n",
      "4\n",
      "5\n"
     ]
    }
   ],
   "metadata": {}
  },
  {
   "cell_type": "markdown",
   "source": [
    "In the above example we count from 1 to 5 (it stop at 6 and does not run).\n",
    "The 'i' variable is short for itterator, and it will count up. We then print this value."
   ],
   "metadata": {}
  },
  {
   "cell_type": "markdown",
   "source": [
    "# Times tables\n",
    "\n",
    "We will print out a times table for 1 to 5"
   ],
   "metadata": {}
  },
  {
   "cell_type": "code",
   "execution_count": 2,
   "source": [
    "table = 8\n",
    "for i in range(1,6):\n",
    "    print(str(i) + \" x \" + str(table) + \" = \" + str(i * table))\n"
   ],
   "outputs": [
    {
     "output_type": "stream",
     "name": "stdout",
     "text": [
      "1 x 8 = 8\n",
      "2 x 8 = 16\n",
      "3 x 8 = 24\n",
      "4 x 8 = 32\n",
      "5 x 8 = 40\n"
     ]
    }
   ],
   "metadata": {}
  },
  {
   "cell_type": "markdown",
   "source": [
    "We calculate the answer with i * table,  so if i = 2 and the table is 8, the answer will be 16.\n",
    "We use str() to conver a number into a string so that we can join it with the other parts."
   ],
   "metadata": {}
  },
  {
   "cell_type": "markdown",
   "source": [
    "# We can also loop over data in a list\n",
    "We can add all the values in a list"
   ],
   "metadata": {}
  },
  {
   "cell_type": "code",
   "execution_count": 3,
   "source": [
    "data = [2.1, 4.3, 5.1, 2.4,8.5]\n",
    "total = 0                          #Keep track of the lotal\n",
    "\n",
    "for i in range(0,len(data)):\n",
    "    total = total + data[i]\n",
    "\n",
    "print(total)\n"
   ],
   "outputs": [
    {
     "output_type": "stream",
     "name": "stdout",
     "text": [
      "22.4\n"
     ]
    }
   ],
   "metadata": {}
  },
  {
   "cell_type": "markdown",
   "source": [
    "# Counting down in a loop\n",
    "Be carful doing this, you could crash your programme or computer in some languages"
   ],
   "metadata": {}
  },
  {
   "cell_type": "code",
   "execution_count": 5,
   "source": [
    "data = [\"a\",\"b\",\"c\",\"d\"]\n",
    "\n",
    "for i in range(len(data)-1,-1,-1):\n",
    "    print(data[i])"
   ],
   "outputs": [
    {
     "output_type": "stream",
     "name": "stdout",
     "text": [
      "d\n",
      "c\n",
      "b\n",
      "a\n"
     ]
    }
   ],
   "metadata": {}
  },
  {
   "cell_type": "markdown",
   "source": [
    "In the above code, we need to start at the end len(data)-1 because if there are 4 elements, the last index will be 3. We need to count to -1, as otherwise if we count to 0 it will not print the 0 index letter. Lastly the 3rd number -1 is the step, we are counting in -1, ie going down 1. You can count in -4, or +6 or any other step."
   ],
   "metadata": {}
  }
 ],
 "metadata": {
  "orig_nbformat": 4,
  "language_info": {
   "name": "python",
   "version": "3.9.5",
   "mimetype": "text/x-python",
   "codemirror_mode": {
    "name": "ipython",
    "version": 3
   },
   "pygments_lexer": "ipython3",
   "nbconvert_exporter": "python",
   "file_extension": ".py"
  },
  "kernelspec": {
   "name": "python3",
   "display_name": "Python 3.9.5 64-bit"
  },
  "interpreter": {
   "hash": "aee8b7b246df8f9039afb4144a1f6fd8d2ca17a180786b69acc140d282b71a49"
  }
 },
 "nbformat": 4,
 "nbformat_minor": 2
}