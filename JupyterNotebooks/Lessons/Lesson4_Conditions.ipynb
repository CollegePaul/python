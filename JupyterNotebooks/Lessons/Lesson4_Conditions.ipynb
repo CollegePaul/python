{
 "cells": [
  {
   "cell_type": "markdown",
   "source": [
    "# Conditions\r\n",
    "\r\n",
    "This is code braching. The code will take different paths depending on what happens, and the value of variables."
   ],
   "metadata": {}
  },
  {
   "cell_type": "code",
   "execution_count": 2,
   "source": [
    "# Here we check if you have enough money (more than 3.00)\r\n",
    "money = 3.10\r\n",
    "\r\n",
    "if money > 3.00:\r\n",
    "  print(\"you can buy this\")  #true\r\n",
    "else:\r\n",
    "  print(\"you dont have the right amount\") #false"
   ],
   "outputs": [
    {
     "output_type": "stream",
     "name": "stdout",
     "text": [
      "you can buy this\n"
     ]
    }
   ],
   "metadata": {}
  },
  {
   "cell_type": "markdown",
   "source": [
    "This will also work with strings. Eg. You may be looking up names in a database, or passwords."
   ],
   "metadata": {}
  },
  {
   "cell_type": "code",
   "execution_count": 5,
   "source": [
    "fname = \"Paul\"   #this wont give me access as it has a captial \r\n",
    "sname = \"smith\"\r\n",
    "#in this example we test 2 things at the same time with 'and'\r\n",
    "\r\n",
    "if fname == \"paul\" and sname == \"smith\":   #both must be true  (see the capital letter in 'Paul')\r\n",
    "  print(\"access granted\")\r\n",
    "  #and gate - both must be true\r\n",
    "else:\r\n",
    "  print(\"please contact admin\")"
   ],
   "outputs": [
    {
     "output_type": "stream",
     "name": "stdout",
     "text": [
      "please contact admin\n"
     ]
    }
   ],
   "metadata": {}
  },
  {
   "cell_type": "markdown",
   "source": [
    "Note:\r\n",
    "fname = \"Paul\" is assignmet , its storing \"paul\"\r\n",
    "fname == \"Paul\" is a test of equality"
   ],
   "metadata": {}
  },
  {
   "cell_type": "code",
   "execution_count": 3,
   "source": [
    "# This time we use or, this is 1 or the other.\r\n",
    "\r\n",
    "raining = True   # boolean   True or False    1 / 0\r\n",
    "temp = 6         # its cold\r\n",
    "\r\n",
    "if raining == True or temp < 5:   #only 1 of them has to be true\r\n",
    "  print(\"get a taxi to work\")\r\n",
    "else:\r\n",
    "  print(\"you can walk\")"
   ],
   "outputs": [
    {
     "output_type": "stream",
     "name": "stdout",
     "text": [
      "get a taxi to work\n"
     ]
    }
   ],
   "metadata": {}
  },
  {
   "cell_type": "markdown",
   "source": [
    "Check if a person is over 18 , and has a clubcard - they get a discount"
   ],
   "metadata": {}
  },
  {
   "cell_type": "code",
   "execution_count": 6,
   "source": [
    "age = 20\r\n",
    "clubcard = True\r\n",
    "\r\n",
    "if age > 18 and clubcard == True:  #both must be true\r\n",
    "  print(\"you can buy a discounted drink\")\r\n",
    "else:\r\n",
    "  print(\"sorry no discount\")"
   ],
   "outputs": [
    {
     "output_type": "stream",
     "name": "stdout",
     "text": [
      "you can buy a discounted drink\n"
     ]
    }
   ],
   "metadata": {}
  },
  {
   "cell_type": "markdown",
   "source": [
    "In the example below we will use a list of names and loop over them to see if the name is in the list."
   ],
   "metadata": {}
  },
  {
   "cell_type": "code",
   "execution_count": 8,
   "source": [
    "names = [\"bob\", \"anne\", \"homer\", \"anakin\"]\r\n",
    "found = False\r\n",
    "target = \"paul\"\r\n",
    "\r\n",
    "for n in range(0,len(names)):\r\n",
    "  if names[n] == target:\r\n",
    "    print(\"Found \" + target)\r\n",
    "    found = True\r\n",
    "\r\n",
    "if found == False:\r\n",
    "    print(target + \" not found\")"
   ],
   "outputs": [
    {
     "output_type": "stream",
     "name": "stdout",
     "text": [
      "paul not found\n"
     ]
    }
   ],
   "metadata": {}
  },
  {
   "cell_type": "markdown",
   "source": [
    "There is also a built in function 'in' to do this. But be carful how you use it."
   ],
   "metadata": {}
  },
  {
   "cell_type": "code",
   "execution_count": 10,
   "source": [
    "if \"home\" in names:\r\n",
    "    print(\"found\")\r\n",
    "else:\r\n",
    "    print(\"not found\")"
   ],
   "outputs": [],
   "metadata": {}
  }
 ],
 "metadata": {
  "orig_nbformat": 4,
  "language_info": {
   "name": "python",
   "version": "3.9.5",
   "mimetype": "text/x-python",
   "codemirror_mode": {
    "name": "ipython",
    "version": 3
   },
   "pygments_lexer": "ipython3",
   "nbconvert_exporter": "python",
   "file_extension": ".py"
  },
  "kernelspec": {
   "name": "python3",
   "display_name": "Python 3.9.5 64-bit"
  },
  "interpreter": {
   "hash": "ee5cc6fef2d70a7e71ee3826687cbd150f18158e0b1eef11d4f4f92bb920e304"
  }
 },
 "nbformat": 4,
 "nbformat_minor": 2
}