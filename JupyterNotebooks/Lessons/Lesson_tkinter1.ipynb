{
 "cells": [
  {
   "cell_type": "markdown",
   "source": [
    "# Tkinter\n",
    "\n",
    "Design a gui"
   ],
   "metadata": {}
  },
  {
   "cell_type": "code",
   "execution_count": null,
   "source": [
    "import tkinter as tk  #Load the tkinter library (module)\n",
    "\n",
    "\n",
    "#make a main window\n",
    "root = tk.Tk()                          #root will be the name of the window\n",
    "root.title(\"My first programme\")\n",
    "root.geometry(\"400x200\")                #Size in pixels\n",
    "root.configure(background='Green')       #Background Colour\n",
    "root.resizable(False,False)              #Can't resize window\n",
    "\n",
    "#button function\n",
    "def myfunction():\n",
    "    #This function will change the text of\n",
    "    myText.config(text = \"World\")\n",
    "\n",
    "#Make a button\n",
    "myButton = tk.Button(root,text=\"Press Me\",font=(\"Arial\", 20),command=myfunction)\n",
    "myButton.place(relx=0.2,rely=0.2,relwidth=0.6,relheight=0.2)\n",
    "\n",
    "#label\n",
    "myText = tk.Label(root, text=\"Hello\",font=(\"Arial\", 20))\n",
    "myText.place(relx=0.2,rely=0.6,relwidth=0.6,relheight=0.2)\n",
    "\n",
    "#The main loop to keep processing user events\n",
    "root.mainloop()"
   ],
   "outputs": [],
   "metadata": {}
  },
  {
   "cell_type": "markdown",
   "source": [
    "![tk](tkDesign_1.png)"
   ],
   "metadata": {}
  }
 ],
 "metadata": {
  "orig_nbformat": 4,
  "language_info": {
   "name": "python",
   "version": "3.9.5"
  },
  "kernelspec": {
   "name": "python3",
   "display_name": "Python 3.9.5 64-bit"
  },
  "interpreter": {
   "hash": "aee8b7b246df8f9039afb4144a1f6fd8d2ca17a180786b69acc140d282b71a49"
  }
 },
 "nbformat": 4,
 "nbformat_minor": 2
}