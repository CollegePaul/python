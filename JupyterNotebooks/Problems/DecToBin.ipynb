{
 "cells": [
  {
   "cell_type": "markdown",
   "source": [
    "# Decimal to Binary\n",
    "Your task is to make a function that will convert a whole number in the range 0 to 255 into an 8 digit string, to represent that number in binary.\n",
    "\n",
    "Eg.  12 in decimal would output \"00001100\"\n",
    "    "
   ],
   "metadata": {}
  },
  {
   "cell_type": "code",
   "execution_count": null,
   "source": [],
   "outputs": [],
   "metadata": {}
  }
 ],
 "metadata": {
  "orig_nbformat": 4,
  "language_info": {
   "name": "python"
  }
 },
 "nbformat": 4,
 "nbformat_minor": 2
}