{
 "cells": [
  {
   "cell_type": "markdown",
   "metadata": {},
   "source": [
    "# The map function\n",
    "\n",
    "The map function is built into python, alowing you to process all the items in an itterable without needing a loop. You can apply a functon to each item. This is common in functional programming. This python function is highly optimized using C, and is faster then looping over a list, it is also much more effician on sytem memory."
   ]
  },
  {
   "cell_type": "markdown",
   "metadata": {},
   "source": [
    "The function below shows how you can itterate over a list of numbers, and multiply each number by 2"
   ]
  },
  {
   "cell_type": "code",
   "execution_count": 8,
   "metadata": {},
   "outputs": [
    {
     "name": "stdout",
     "output_type": "stream",
     "text": [
      "[2, 4, 6, 8, 10]\n"
     ]
    }
   ],
   "source": [
    "numbers = [1,2,3,4,5]\n",
    "numbers_times2 = []\n",
    "\n",
    "for n in numbers:\n",
    "    numbers_times2.append(n*2)\n",
    "\n",
    "print(numbers_times2)"
   ]
  },
  {
   "cell_type": "markdown",
   "metadata": {},
   "source": [
    "However we can use map to do this."
   ]
  },
  {
   "cell_type": "code",
   "execution_count": 9,
   "metadata": {},
   "outputs": [
    {
     "data": {
      "text/plain": [
       "[2, 4, 6, 8, 10]"
      ]
     },
     "execution_count": 9,
     "metadata": {},
     "output_type": "execute_result"
    }
   ],
   "source": [
    "nums = [1,2,3,4,5]\n",
    "\n",
    "def mult_by_2(x):\n",
    "    return x * 2\n",
    "\n",
    "nums_x_2 = map(mult_by_2, nums)\n",
    "\n",
    "list(nums_x_2)"
   ]
  },
  {
   "cell_type": "markdown",
   "metadata": {},
   "source": [
    "We have applied a function to each element in the list."
   ]
  },
  {
   "cell_type": "markdown",
   "metadata": {},
   "source": [
    "A good use for this is to convert a list of strings into integers, especially useful for input values and reading lines from files. The map function applys the int() function to each element. The List() function then takes the map object and converts it back to a list."
   ]
  },
  {
   "cell_type": "code",
   "execution_count": 10,
   "metadata": {},
   "outputs": [
    {
     "name": "stdout",
     "output_type": "stream",
     "text": [
      "[1, 4, 5, 20, -3]\n"
     ]
    }
   ],
   "source": [
    "str_numbers = [\"1\",\"4\",\"5\",\"20\",\"-3\"]\n",
    "\n",
    "int_numbers = list(map(int, str_numbers))\n",
    "\n",
    "print(int_numbers)"
   ]
  }
 ],
 "metadata": {
  "interpreter": {
   "hash": "aee8b7b246df8f9039afb4144a1f6fd8d2ca17a180786b69acc140d282b71a49"
  },
  "kernelspec": {
   "display_name": "Python 3.9.5 64-bit",
   "name": "python3"
  },
  "language_info": {
   "codemirror_mode": {
    "name": "ipython",
    "version": 3
   },
   "file_extension": ".py",
   "mimetype": "text/x-python",
   "name": "python",
   "nbconvert_exporter": "python",
   "pygments_lexer": "ipython3",
   "version": "3.9.5"
  },
  "orig_nbformat": 4
 },
 "nbformat": 4,
 "nbformat_minor": 2
}