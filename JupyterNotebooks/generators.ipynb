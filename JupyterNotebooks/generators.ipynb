{
 "cells": [
  {
   "cell_type": "markdown",
   "source": [
    "# Generators\n",
    "\n",
    "Consider the following list of numbers"
   ],
   "metadata": {}
  },
  {
   "cell_type": "code",
   "execution_count": 10,
   "source": [
    "a = range(5)\n",
    "list(a)\n"
   ],
   "outputs": [
    {
     "output_type": "execute_result",
     "data": {
      "text/plain": [
       "[0, 1, 2, 3, 4]"
      ]
     },
     "metadata": {},
     "execution_count": 10
    }
   ],
   "metadata": {}
  },
  {
   "cell_type": "markdown",
   "source": [
    "A list is good, but what about an infinite list? With a generator you can do that.\n",
    "Yield will return a value from the function, but unlike return the state of the function is mainted for the next time it is called. This is also lazy execution, it will only generate the new value once needed. It will only occupy enough memory for 1 number. So its very effician in time and memory."
   ],
   "metadata": {}
  },
  {
   "cell_type": "code",
   "execution_count": null,
   "source": [
    "def infinite_sequence():\n",
    "    num = 0\n",
    "    while True:\n",
    "        yield num\n",
    "        num += 1\n",
    "\n",
    "gen = infinite_sequence()\n",
    "print(next(gen))\n",
    "print(next(gen))\n",
    "print(next(gen))\n",
    "\n",
    "#if you run the example below get ready to stop it with the interput button!\n",
    "# for i in infinite_sequence():\n",
    "#  print(i, \" \")"
   ],
   "outputs": [],
   "metadata": {}
  }
 ],
 "metadata": {
  "orig_nbformat": 4,
  "language_info": {
   "name": "python"
  }
 },
 "nbformat": 4,
 "nbformat_minor": 2
}