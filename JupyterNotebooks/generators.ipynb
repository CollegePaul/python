{
 "cells": [
  {
   "cell_type": "markdown",
   "source": [
    "# Generators\n",
    "\n",
    "Consider the following list of numbers"
   ],
   "metadata": {}
  },
  {
   "cell_type": "code",
   "execution_count": null,
   "source": [
    "a = range(5)\n",
    "list(a)\n",
    "[0, 1, 2, 3, 4]"
   ],
   "outputs": [],
   "metadata": {}
  }
 ],
 "metadata": {
  "orig_nbformat": 4,
  "language_info": {
   "name": "python"
  }
 },
 "nbformat": 4,
 "nbformat_minor": 2
}