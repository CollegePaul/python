{
 "cells": [
  {
   "cell_type": "markdown",
   "source": [
    "# Generators\r\n",
    "\r\n",
    "Consider the following list of numbers\r\n",
    "\r\n",
    "Please see synth\\start.ipynb for practical use generating an sound wave"
   ],
   "metadata": {}
  },
  {
   "cell_type": "code",
   "execution_count": 1,
   "source": [
    "a = range(5)\r\n",
    "list(a)\r\n"
   ],
   "outputs": [
    {
     "output_type": "execute_result",
     "data": {
      "text/plain": [
       "[0, 1, 2, 3, 4]"
      ]
     },
     "metadata": {},
     "execution_count": 1
    }
   ],
   "metadata": {}
  },
  {
   "cell_type": "markdown",
   "source": [
    "A list is good, but what about an infinite list? With a generator you can do that.\n",
    "Yield will return a value from the function, but unlike return the state of the function is mainted for the next time it is called. This is also lazy execution, it will only generate the new value once needed. It will only occupy enough memory for 1 number. So its very effician in time and memory."
   ],
   "metadata": {}
  },
  {
   "cell_type": "code",
   "execution_count": 2,
   "source": [
    "def infinite_sequence():\r\n",
    "    num = 0\r\n",
    "    while True:\r\n",
    "        yield num\r\n",
    "        num += 1\r\n",
    "\r\n",
    "gen = infinite_sequence()\r\n",
    "print(next(gen))\r\n",
    "print(next(gen))\r\n",
    "print(next(gen))\r\n",
    "\r\n",
    "#if you run the example below get ready to stop it with the interput button!\r\n",
    "# for i in infinite_sequence():\r\n",
    "#  print(i, \" \")"
   ],
   "outputs": [
    {
     "output_type": "stream",
     "name": "stdout",
     "text": [
      "0\n",
      "1\n",
      "2\n"
     ]
    }
   ],
   "metadata": {}
  }
 ],
 "metadata": {
  "orig_nbformat": 4,
  "language_info": {
   "name": "python"
  }
 },
 "nbformat": 4,
 "nbformat_minor": 2
}