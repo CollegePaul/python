{
 "cells": [
  {
   "cell_type": "markdown",
   "metadata": {},
   "source": [
    "# Selection\r\n",
    "\r\n",
    "In programming sometimes the program will need to make decisions depending on the value of the varibles (the state)"
   ]
  },
  {
   "cell_type": "code",
   "execution_count": 8,
   "metadata": {},
   "outputs": [
    {
     "name": "stdout",
     "output_type": "stream",
     "text": [
      "You are not old enough\n"
     ]
    }
   ],
   "source": [
    "age = 16\r\n",
    "if age >=18:\r\n",
    "    print(\"You can vote\")\r\n",
    "else:\r\n",
    "    print(\"You are not old enough\")"
   ]
  },
  {
   "cell_type": "markdown",
   "metadata": {},
   "source": [
    "In the example above if you are 18 or above you can vote, otherwise you cant!\r\n",
    "\r\n",
    "Below is another example"
   ]
  },
  {
   "cell_type": "code",
   "execution_count": 9,
   "metadata": {},
   "outputs": [
    {
     "name": "stdout",
     "output_type": "stream",
     "text": [
      "Hi bob, how are you?\n"
     ]
    }
   ],
   "source": [
    "name = \"bob\"\r\n",
    "\r\n",
    "if name==\"bob\":\r\n",
    "    print(\"Hi bob, how are you?\")\r\n",
    "else:\r\n",
    "    print(\"Your not bob!\")"
   ]
  },
  {
   "cell_type": "markdown",
   "metadata": {},
   "source": [
    "In this example we check if a string was equal, is name the same as bob, this is like a log in system."
   ]
  },
  {
   "cell_type": "code",
   "execution_count": 10,
   "metadata": {},
   "outputs": [
    {
     "name": "stdout",
     "output_type": "stream",
     "text": [
      "You will need an umbrealla.\n"
     ]
    }
   ],
   "source": [
    "raining = True\r\n",
    "\r\n",
    "if raining == True:\r\n",
    "    print(\"You will need an umbrealla.\")\r\n",
    "else:\r\n",
    "    print(\"Its dry today, leave umbrella at home.\")"
   ]
  },
  {
   "cell_type": "markdown",
   "metadata": {},
   "source": [
    "We can combine more than 1 condition together"
   ]
  },
  {
   "cell_type": "code",
   "execution_count": 11,
   "metadata": {},
   "outputs": [
    {
     "name": "stdout",
     "output_type": "stream",
     "text": [
      "Weather is not too bad, you can cope!\n"
     ]
    }
   ],
   "source": [
    "raining = True\r\n",
    "cold = False\r\n",
    "if raining and cold:\r\n",
    "    print(\"You will nead your winter coat today.\")\r\n",
    "else:\r\n",
    "    print(\"Weather is not too bad, you can cope!\")"
   ]
  },
  {
   "cell_type": "markdown",
   "metadata": {},
   "source": [
    "In this example useing the 'and' keyword we check if both are true at the same time."
   ]
  },
  {
   "cell_type": "code",
   "execution_count": 12,
   "metadata": {},
   "outputs": [
    {
     "name": "stdout",
     "output_type": "stream",
     "text": [
      "You will nead your winter coat today.\n"
     ]
    }
   ],
   "source": [
    "raining = True\r\n",
    "cold = False\r\n",
    "if raining or cold:\r\n",
    "    print(\"You will nead your winter coat today.\")\r\n",
    "else:\r\n",
    "    print(\"Weather is not too bad, you can cope!\")"
   ]
  },
  {
   "cell_type": "markdown",
   "metadata": {},
   "source": [
    "This example looks similar, but using 'or' means only 1 of them has to be True (or both) so this works differenly to the 'and'."
   ]
  }
 ],
 "metadata": {
  "interpreter": {
   "hash": "fcf1d46d271c46101d6967829d4a5f475342a2ce08e4944f989fbcdc9bb23690"
  },
  "kernelspec": {
   "display_name": "Python 3.9.5 64-bit",
   "name": "python3"
  },
  "language_info": {
   "codemirror_mode": {
    "name": "ipython",
    "version": 3
   },
   "file_extension": ".py",
   "mimetype": "text/x-python",
   "name": "python",
   "nbconvert_exporter": "python",
   "pygments_lexer": "ipython3",
   "version": "3.9.5"
  },
  "orig_nbformat": 4
 },
 "nbformat": 4,
 "nbformat_minor": 2
}