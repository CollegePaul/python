{
 "cells": [
  {
   "cell_type": "markdown",
   "source": [
    "# Lesson 1 - Variables\n",
    "\n",
    "A variable stores some data, there are different types, eg numbers, words etc"
   ],
   "metadata": {}
  },
  {
   "cell_type": "markdown",
   "source": [
    "## String variable\n",
    "\n",
    "Use to store text. You will need \"\" for any text. The age in this exampe is a string, not a number - because of the speach marks."
   ],
   "metadata": {}
  },
  {
   "cell_type": "code",
   "execution_count": 13,
   "source": [
    "name = \"Paul\"\n",
    "car = \"VW\"\n",
    "os = \"windows 10\"\n",
    "game = \"snake\"\n",
    "age = \"18\"\n",
    "\n",
    "print(name)\n",
    "print(car)\n",
    "print(age)\n",
    "\n",
    "#We can get python to print out the type of data using type\n",
    "print(type(car))\n"
   ],
   "outputs": [
    {
     "output_type": "stream",
     "name": "stdout",
     "text": [
      "Paul\n",
      "VW\n",
      "18\n",
      "<class 'str'>\n"
     ]
    }
   ],
   "metadata": {}
  },
  {
   "cell_type": "markdown",
   "source": [
    "### make your own string variables.\n",
    "\n",
    "## Integers - whole numbers"
   ],
   "metadata": {}
  },
  {
   "cell_type": "code",
   "execution_count": 14,
   "source": [
    "day = 5\n",
    "cost = 4.31\n",
    "count = 692\n",
    "height = 78.4\n",
    "\n",
    "print(cost)\n",
    "print(type(cost))\n",
    "\n",
    "print(count)\n",
    "print(type(count))"
   ],
   "outputs": [
    {
     "output_type": "stream",
     "name": "stdout",
     "text": [
      "4.31\n",
      "<class 'float'>\n",
      "692\n",
      "<class 'int'>\n"
     ]
    }
   ],
   "metadata": {}
  },
  {
   "cell_type": "markdown",
   "source": [
    "As we see above a whole number is a int - Integer  and a decimal is a float (floating point number)\n",
    "\n",
    "## Boolean\n",
    "\n",
    "A true or false"
   ],
   "metadata": {}
  },
  {
   "cell_type": "code",
   "execution_count": 15,
   "source": [
    "raining = True\n",
    "running = False\n",
    "jumping = True\n",
    "\n",
    "print(raining)"
   ],
   "outputs": [
    {
     "output_type": "stream",
     "name": "stdout",
     "text": [
      "True\n"
     ]
    }
   ],
   "metadata": {}
  }
 ],
 "metadata": {
  "orig_nbformat": 4,
  "language_info": {
   "name": "python"
  }
 },
 "nbformat": 4,
 "nbformat_minor": 2
}