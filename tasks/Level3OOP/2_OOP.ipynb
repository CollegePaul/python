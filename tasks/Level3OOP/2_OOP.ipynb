{
 "cells": [
  {
   "cell_type": "markdown",
   "metadata": {},
   "source": [
    "# OOP Task 2\r\n",
    "\r\n",
    "The animal class does encapuslate data, but this data is freely accessible outside of the class. To brotect the internal data (state) of the object we should really limit acess and provide accessor methods to get to access the data. Some languages have a private keyword. Python uses a double underscore to denote provate.\r\n",
    "\r\n",
    "![Animal UML](animal2.png)\r\n",
    "\r\n"
   ]
  },
  {
   "cell_type": "code",
   "execution_count": 16,
   "metadata": {},
   "outputs": [],
   "source": [
    "class Animal:\n",
    "    '''Animal Class, an animal of a given type that can also speek'''\n",
    "    def __init__(self, animal_type: str, sound: str) -> None:\n",
    "        self.__animal_type = animal_type\n",
    "        self.__sound = sound\n",
    "\n",
    "    def speek(self) -> str:\n",
    "        return self.__sound\n",
    "\n",
    "    def change_sound(self, new_sound) -> None:\n",
    "        self.__sound = new_sound\n",
    "        print(\"This animals sound has changed\")\n",
    "\n"
   ]
  },
  {
   "cell_type": "markdown",
   "metadata": {},
   "source": [
    "### testing this out\n",
    "\n",
    "We can see below that if we try to access the __sound directly we cant."
   ]
  },
  {
   "cell_type": "code",
   "execution_count": 17,
   "metadata": {},
   "outputs": [
    {
     "ename": "AttributeError",
     "evalue": "'Animal' object has no attribute '__sound'",
     "output_type": "error",
     "traceback": [
      "\u001b[0;31m---------------------------------------------------------------------------\u001b[0m",
      "\u001b[0;31mAttributeError\u001b[0m                            Traceback (most recent call last)",
      "\u001b[0;32m/var/folders/23/p7gwbkxd51x_d5s23c9tqls80000gn/T/ipykernel_1721/657470442.py\u001b[0m in \u001b[0;36m<module>\u001b[0;34m\u001b[0m\n\u001b[1;32m      1\u001b[0m \u001b[0mdog\u001b[0m \u001b[0;34m=\u001b[0m \u001b[0mAnimal\u001b[0m\u001b[0;34m(\u001b[0m\u001b[0;34m\"dog\"\u001b[0m\u001b[0;34m,\u001b[0m \u001b[0;34m\"woof\"\u001b[0m\u001b[0;34m)\u001b[0m\u001b[0;34m\u001b[0m\u001b[0;34m\u001b[0m\u001b[0m\n\u001b[0;32m----> 2\u001b[0;31m \u001b[0mprint\u001b[0m\u001b[0;34m(\u001b[0m\u001b[0mdog\u001b[0m\u001b[0;34m.\u001b[0m\u001b[0m__sound\u001b[0m\u001b[0;34m)\u001b[0m\u001b[0;34m\u001b[0m\u001b[0;34m\u001b[0m\u001b[0m\n\u001b[0m",
      "\u001b[0;31mAttributeError\u001b[0m: 'Animal' object has no attribute '__sound'"
     ]
    }
   ],
   "source": [
    "dog = Animal(\"dog\", \"woof\")\n",
    "print(dog.__sound)"
   ]
  },
  {
   "cell_type": "markdown",
   "metadata": {},
   "source": [
    "Now use the accessor method to change the sound. This is a simple example, but in a real implimentation the class could validate input."
   ]
  },
  {
   "cell_type": "code",
   "execution_count": null,
   "metadata": {},
   "outputs": [
    {
     "name": "stdout",
     "output_type": "stream",
     "text": [
      "woof\n",
      "This animals sound has changed\n",
      "Bark Bark\n"
     ]
    }
   ],
   "source": [
    "print(dog.speek())\n",
    "dog.change_sound(\"Bark Bark\")\n",
    "print(dog.speek())"
   ]
  },
  {
   "cell_type": "markdown",
   "metadata": {},
   "source": [
    "### Your Task 1\n",
    "\n",
    "Modify your class to make the attributes private and add accesor method to change the value of the private attributes"
   ]
  }
 ],
 "metadata": {
  "language_info": {
   "name": "python"
  },
  "orig_nbformat": 4
 },
 "nbformat": 4,
 "nbformat_minor": 2
}