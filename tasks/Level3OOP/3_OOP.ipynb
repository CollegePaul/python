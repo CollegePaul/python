{
 "cells": [
  {
   "cell_type": "markdown",
   "metadata": {},
   "source": [
    "# Inheritence\r\n",
    "\r\n",
    "Up to yet we have just made 1 class. Lets use inheritence to build other classes. The new class will be a more specific implimentation of the base class. Lets create an Enity for a game, this will have basic properties that child classes will inherit. This way we dont have to code them again.\r\n",
    "\r\n",
    "### Enity base class\r\n",
    "\r\n"
   ]
  },
  {
   "cell_type": "code",
   "execution_count": 70,
   "metadata": {},
   "outputs": [],
   "source": [
    "class Entity:\r\n",
    "    '''A base object for a game'''\r\n",
    "    def __init__(self, x: int , y: int, image: str) -> None:\r\n",
    "        self._x = x   #protected - accessible in subclass\r\n",
    "        self.__y = y  #private - not accessible in subclass\r\n",
    "        self.__image = image\r\n",
    "        print(\"making Entity\")\r\n",
    "\r\n",
    "    def draw(self) -> None:\r\n",
    "        #this would draw the image at x,y\r\n",
    "        #we are just printing image for the example\r\n",
    "        print(f\"Drawing {self.__image} at ({self._x},{self.__y})\")\r\n",
    "\r\n",
    "    def setX(self, x) -> None:\r\n",
    "        self._x = x\r\n",
    "\r\n",
    "    def setY(self, y) -> None:\r\n",
    "        self.__y = y\r\n",
    "        "
   ]
  },
  {
   "cell_type": "markdown",
   "metadata": {},
   "source": [
    "Now lets make a derived class."
   ]
  },
  {
   "cell_type": "code",
   "execution_count": 71,
   "metadata": {},
   "outputs": [],
   "source": [
    "class Enemy(Entity):\r\n",
    "    def __init__(self, x: int , y: int, image: str, attack: int):\r\n",
    "        super().__init__(x,y,image)\r\n",
    "        self.__attack = attack\r\n",
    "    \r\n",
    "    def attack(self):\r\n",
    "        print(f\"Im attacking for {self.__attack} points of damage.\")\r\n",
    "\r\n",
    "    def showX(self):\r\n",
    "        print(self._x)\r\n",
    "\r\n",
    "    def showY(self):\r\n",
    "        print(self.__y)\r\n"
   ]
  },
  {
   "cell_type": "markdown",
   "metadata": {},
   "source": [
    "lets create an ememy instance"
   ]
  },
  {
   "cell_type": "code",
   "execution_count": 72,
   "metadata": {},
   "outputs": [
    {
     "name": "stdout",
     "output_type": "stream",
     "text": [
      "making Entity\n",
      "Im attacking for 3 points of damage.\n",
      "Drawing warlock.png at (20,2)\n",
      "20\n",
      "20\n"
     ]
    },
    {
     "ename": "AttributeError",
     "evalue": "'Enemy' object has no attribute '_y'",
     "output_type": "error",
     "traceback": [
      "\u001b[1;31m---------------------------------------------------------------------------\u001b[0m",
      "\u001b[1;31mAttributeError\u001b[0m                            Traceback (most recent call last)",
      "\u001b[1;32m~\\AppData\\Local\\Temp/ipykernel_2760/3458837784.py\u001b[0m in \u001b[0;36m<module>\u001b[1;34m\u001b[0m\n\u001b[0;32m      6\u001b[0m \u001b[0mwarlock\u001b[0m\u001b[1;33m.\u001b[0m\u001b[0mshowX\u001b[0m\u001b[1;33m(\u001b[0m\u001b[1;33m)\u001b[0m\u001b[1;33m\u001b[0m\u001b[1;33m\u001b[0m\u001b[0m\n\u001b[0;32m      7\u001b[0m \u001b[0mprint\u001b[0m\u001b[1;33m(\u001b[0m\u001b[0mwarlock\u001b[0m\u001b[1;33m.\u001b[0m\u001b[0m_x\u001b[0m\u001b[1;33m)\u001b[0m \u001b[1;31m#protected is a sugestion not a rigid implimentation in python\u001b[0m\u001b[1;33m\u001b[0m\u001b[1;33m\u001b[0m\u001b[0m\n\u001b[1;32m----> 8\u001b[1;33m \u001b[0mprint\u001b[0m\u001b[1;33m(\u001b[0m\u001b[0mwarlock\u001b[0m\u001b[1;33m.\u001b[0m\u001b[0m_y\u001b[0m\u001b[1;33m)\u001b[0m\u001b[1;33m\u001b[0m\u001b[1;33m\u001b[0m\u001b[0m\n\u001b[0m\u001b[0;32m      9\u001b[0m \u001b[1;31m#this line will crasg\u001b[0m\u001b[1;33m\u001b[0m\u001b[1;33m\u001b[0m\u001b[1;33m\u001b[0m\u001b[0m\n\u001b[0;32m     10\u001b[0m \u001b[1;31m#warlock.showY()\u001b[0m\u001b[1;33m\u001b[0m\u001b[1;33m\u001b[0m\u001b[1;33m\u001b[0m\u001b[0m\n",
      "\u001b[1;31mAttributeError\u001b[0m: 'Enemy' object has no attribute '_y'"
     ]
    }
   ],
   "source": [
    "warlock = Enemy(30,2,\"warlock.png\", 3)\r\n",
    "warlock.attack() \r\n",
    "warlock.setX(20)\r\n",
    "warlock.draw()\r\n",
    "\r\n",
    "warlock.showX()\r\n",
    "print(warlock._x) #protected is a sugestion not a rigid implimentation in python\r\n",
    "#print(warlock._y) #this line will crash as __y is not accessible (not by this method anyhow)\r\n",
    "\r\n",
    "\r\n",
    "#this line will crash\r\n",
    "#warlock.showY() \r\n"
   ]
  }
 ],
 "metadata": {
  "interpreter": {
   "hash": "fcf1d46d271c46101d6967829d4a5f475342a2ce08e4944f989fbcdc9bb23690"
  },
  "kernelspec": {
   "display_name": "Python 3.9.5 64-bit",
   "name": "python3"
  },
  "language_info": {
   "codemirror_mode": {
    "name": "ipython",
    "version": 3
   },
   "file_extension": ".py",
   "mimetype": "text/x-python",
   "name": "python",
   "nbconvert_exporter": "python",
   "pygments_lexer": "ipython3",
   "version": "3.9.5"
  },
  "orig_nbformat": 4
 },
 "nbformat": 4,
 "nbformat_minor": 2
}