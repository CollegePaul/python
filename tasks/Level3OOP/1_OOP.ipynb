{
 "cells": [
  {
   "cell_type": "markdown",
   "metadata": {},
   "source": [
    "# OOP Task 1\n",
    "\n",
    "Create a class to represent a animal, it should have some attributes such as a sound it makes when talking, a type. The animal should impliment a method to speak. The animal should have an initialistion method that requires the type and sound as parameters."
   ]
  },
  {
   "cell_type": "markdown",
   "metadata": {},
   "source": [
    "![Animal UML](animal1.png)"
   ]
  },
  {
   "cell_type": "code",
   "execution_count": 16,
   "metadata": {},
   "outputs": [],
   "source": [
    "class Animal:\n",
    "    '''Animal Class, an animal of a given type that can also speek'''\n",
    "    def __init__(self, animal_type: str, sound: str) -> None:\n",
    "        self.animal_type = animal_type\n",
    "        self.sound = sound\n",
    "\n",
    "    def speek(self) -> str:\n",
    "        return self.sound\n",
    "\n"
   ]
  },
  {
   "cell_type": "markdown",
   "metadata": {},
   "source": [
    "### Create an instance from the Animal class\n",
    "\n",
    "Now we have the blueprint, create an object instance of a animal. Lets make a dog."
   ]
  },
  {
   "cell_type": "code",
   "execution_count": 17,
   "metadata": {},
   "outputs": [
    {
     "name": "stdout",
     "output_type": "stream",
     "text": [
      "woof\n"
     ]
    }
   ],
   "source": [
    "dog = Animal(\"dog\",\"woof\")\n",
    "print(dog.speek())"
   ]
  },
  {
   "cell_type": "markdown",
   "metadata": {},
   "source": [
    "Now use the same class to make a cat."
   ]
  },
  {
   "cell_type": "code",
   "execution_count": 18,
   "metadata": {},
   "outputs": [
    {
     "name": "stdout",
     "output_type": "stream",
     "text": [
      "meow\n"
     ]
    }
   ],
   "source": [
    "cat = Animal(\"cat\" ,\"meow\")\n",
    "print(cat.speek())"
   ]
  },
  {
   "cell_type": "markdown",
   "metadata": {},
   "source": [
    "Closing notes and considerations.\n",
    "We can access the type and sound as they are not private."
   ]
  },
  {
   "cell_type": "code",
   "execution_count": 19,
   "metadata": {},
   "outputs": [
    {
     "name": "stdout",
     "output_type": "stream",
     "text": [
      "dog\n"
     ]
    }
   ],
   "source": [
    "print(dog.animal_type)"
   ]
  },
  {
   "cell_type": "markdown",
   "metadata": {},
   "source": [
    "This is not a good idea as we could do this."
   ]
  },
  {
   "cell_type": "code",
   "execution_count": 20,
   "metadata": {},
   "outputs": [
    {
     "name": "stdout",
     "output_type": "stream",
     "text": [
      "Lion\n",
      "Sweek\n"
     ]
    }
   ],
   "source": [
    "dog.animal_type = \"Lion\"\n",
    "dog.sound = \"Sweek\"\n",
    "print(dog.animal_type)\n",
    "print(dog.speek())\n"
   ]
  },
  {
   "cell_type": "markdown",
   "metadata": {},
   "source": [
    "Now we have a dog which is a lion. In task 2 we will make these private, and deal with this issue."
   ]
  },
  {
   "cell_type": "markdown",
   "metadata": {},
   "source": [
    "### Your Task 1\n",
    "\n",
    "I would like you to make a class to represent a vehical, this should have a type, eg boat, plane, car etc. The vechial should have a max number of passangers. It should have a method for starting its engine. Upon starting the engine, it sould make a noise, eg \"Brum Brum\"\n",
    "(this will be text - not a physical sound)\n",
    "Make 2 instances of your object to demonstrate how it works."
   ]
  }
 ],
 "metadata": {
  "interpreter": {
   "hash": "fcf1d46d271c46101d6967829d4a5f475342a2ce08e4944f989fbcdc9bb23690"
  },
  "kernelspec": {
   "display_name": "Python 3.9.5 64-bit",
   "name": "python3"
  },
  "language_info": {
   "codemirror_mode": {
    "name": "ipython",
    "version": 3
   },
   "file_extension": ".py",
   "mimetype": "text/x-python",
   "name": "python",
   "nbconvert_exporter": "python",
   "pygments_lexer": "ipython3",
   "version": "3.9.5"
  },
  "orig_nbformat": 4
 },
 "nbformat": 4,
 "nbformat_minor": 2
}