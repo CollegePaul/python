{
 "cells": [
  {
   "cell_type": "markdown",
   "source": [
    "# OOP Task 1\n",
    "\n",
    "Create a class to represent a animal, it should have some attributes such as a sound it makes when talking, a type. The animal should impliment a method to speak. The animal should have an initialistion method that requires the type and sound as parameters."
   ],
   "metadata": {}
  },
  {
   "cell_type": "code",
   "execution_count": 43,
   "source": [
    "class Animal:\n",
    "    '''Animal Class, an animal of a given type that can also speek'''\n",
    "    def __init__(self, animal_type: str, sound: str) -> None:\n",
    "        self.animal_type = animal_type\n",
    "        self.sound = sound\n",
    "\n",
    "    def speek(self) -> str:\n",
    "        return self.sound\n",
    "\n"
   ],
   "outputs": [],
   "metadata": {}
  },
  {
   "cell_type": "markdown",
   "source": [
    "### Create an instance from the Animal class\n",
    "\n",
    "Now we have the blueprint, create an object instance of a animal. Lets make a dog."
   ],
   "metadata": {}
  },
  {
   "cell_type": "code",
   "execution_count": 44,
   "source": [
    "dog = Animal(\"dog\",\"woof\")\n",
    "print(dog.speek())"
   ],
   "outputs": [
    {
     "output_type": "stream",
     "name": "stdout",
     "text": [
      "woof\n"
     ]
    }
   ],
   "metadata": {}
  },
  {
   "cell_type": "markdown",
   "source": [
    "Now use the same class to make a cat."
   ],
   "metadata": {}
  },
  {
   "cell_type": "code",
   "execution_count": 45,
   "source": [
    "cat = Animal(\"cat\" ,\"meow\")\n",
    "print(cat.speek())"
   ],
   "outputs": [
    {
     "output_type": "stream",
     "name": "stdout",
     "text": [
      "meow\n"
     ]
    }
   ],
   "metadata": {}
  },
  {
   "cell_type": "markdown",
   "source": [
    "Closing notes and considerations.\n",
    "We can access the type and sound as they are not private."
   ],
   "metadata": {}
  },
  {
   "cell_type": "code",
   "execution_count": 46,
   "source": [
    "print(dog.animal_type)"
   ],
   "outputs": [
    {
     "output_type": "stream",
     "name": "stdout",
     "text": [
      "dog\n"
     ]
    }
   ],
   "metadata": {}
  },
  {
   "cell_type": "markdown",
   "source": [
    "This is not a good idea as we could do this."
   ],
   "metadata": {}
  },
  {
   "cell_type": "code",
   "execution_count": 48,
   "source": [
    "dog.animal_type = \"Lion\"\n",
    "dog.sound = \"Sweek\"\n",
    "print(dog.animal_type)\n",
    "print(dog.speek())\n"
   ],
   "outputs": [
    {
     "output_type": "stream",
     "name": "stdout",
     "text": [
      "Lion\n",
      "Sweek\n"
     ]
    }
   ],
   "metadata": {}
  },
  {
   "cell_type": "markdown",
   "source": [
    "Now we have a dog which is a lion. In task 2 we will make these private, and deal with this issue."
   ],
   "metadata": {}
  },
  {
   "cell_type": "markdown",
   "source": [
    "### Your Task 1\n",
    "\n",
    "I would like you to make a class to represent a vehical, this should have a type, eg boat, plane, car etc. The vechial should have a max number of passangers. It should have a method for starting its engine. Upon starting the engine, it sould make a noise, eg \"Brum Brum\"\n",
    "(this will be text - not a physical sound)\n",
    "Make 2 instances of your object to demonstrate how it works."
   ],
   "metadata": {}
  }
 ],
 "metadata": {
  "orig_nbformat": 4,
  "language_info": {
   "name": "python"
  }
 },
 "nbformat": 4,
 "nbformat_minor": 2
}