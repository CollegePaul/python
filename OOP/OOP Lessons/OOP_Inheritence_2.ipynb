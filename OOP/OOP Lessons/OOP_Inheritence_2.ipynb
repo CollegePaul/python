{
 "cells": [
  {
   "cell_type": "markdown",
   "source": [
    "# OOP Inheritence"
   ],
   "metadata": {}
  },
  {
   "cell_type": "code",
   "execution_count": 2,
   "source": [
    "#base class\r\n",
    "class Person:\r\n",
    "    def __init__(self,name,age):\r\n",
    "        self.name = name\r\n",
    "        self.age = age\r\n",
    "    def who(self):\r\n",
    "        print(\"I am \" + self.name + \" and I am \" + str(self.age))\r\n",
    "\r\n",
    "paul = Person(\"Paul\",48)\r\n",
    "paul.who()"
   ],
   "outputs": [
    {
     "output_type": "stream",
     "name": "stdout",
     "text": [
      "I am Paul and I am 48\n"
     ]
    }
   ],
   "metadata": {}
  },
  {
   "cell_type": "code",
   "execution_count": 5,
   "source": [
    "#inherited class\r\n",
    "class Student(Person):\r\n",
    "    def __init__(self, name, age, course):\r\n",
    "        super().__init__(name, age)\r\n",
    "        self.course = course\r\n",
    "    def study(self):\r\n",
    "        print(\"I study \" + self.course)\r\n",
    "\r\n",
    "bob = Student(\"bob\", 18, \"computing\")\r\n",
    "bob.who()\r\n",
    "bob.study()"
   ],
   "outputs": [
    {
     "output_type": "stream",
     "name": "stdout",
     "text": [
      "I am bob and I am 18\n",
      "I study computing\n"
     ]
    }
   ],
   "metadata": {}
  },
  {
   "cell_type": "code",
   "execution_count": 8,
   "source": [
    "#inherited\r\n",
    "\r\n",
    "class Staff(Person):\r\n",
    "    def __init__(self, name, age, wages):\r\n",
    "        super().__init__(name, age)\r\n",
    "        self.wages = wages\r\n",
    "    def pay(self):\r\n",
    "        print(\"I earn £\" + str(self.wages))\r\n",
    "\r\n",
    "richard = Staff(\"Richard\", 26, 89900)\r\n",
    "richard.who()\r\n",
    "richard.pay()"
   ],
   "outputs": [
    {
     "output_type": "stream",
     "name": "stdout",
     "text": [
      "I am Richard and I am 26\n",
      "I earn 89900\n"
     ]
    }
   ],
   "metadata": {}
  },
  {
   "cell_type": "code",
   "execution_count": 10,
   "source": [
    "richard.study()"
   ],
   "outputs": [
    {
     "output_type": "error",
     "ename": "AttributeError",
     "evalue": "'Staff' object has no attribute 'study'",
     "traceback": [
      "\u001b[1;31m---------------------------------------------------------------------------\u001b[0m",
      "\u001b[1;31mAttributeError\u001b[0m                            Traceback (most recent call last)",
      "\u001b[1;32m~\\AppData\\Local\\Temp/ipykernel_14300/2639445617.py\u001b[0m in \u001b[0;36m<module>\u001b[1;34m\u001b[0m\n\u001b[1;32m----> 1\u001b[1;33m \u001b[0mrichard\u001b[0m\u001b[1;33m.\u001b[0m\u001b[0mstudy\u001b[0m\u001b[1;33m(\u001b[0m\u001b[1;33m)\u001b[0m\u001b[1;33m\u001b[0m\u001b[1;33m\u001b[0m\u001b[0m\n\u001b[0m",
      "\u001b[1;31mAttributeError\u001b[0m: 'Staff' object has no attribute 'study'"
     ]
    }
   ],
   "metadata": {}
  }
 ],
 "metadata": {
  "orig_nbformat": 4,
  "language_info": {
   "name": "python",
   "version": "3.9.5",
   "mimetype": "text/x-python",
   "codemirror_mode": {
    "name": "ipython",
    "version": 3
   },
   "pygments_lexer": "ipython3",
   "nbconvert_exporter": "python",
   "file_extension": ".py"
  },
  "kernelspec": {
   "name": "python3",
   "display_name": "Python 3.9.5 64-bit"
  },
  "interpreter": {
   "hash": "fcf1d46d271c46101d6967829d4a5f475342a2ce08e4944f989fbcdc9bb23690"
  }
 },
 "nbformat": 4,
 "nbformat_minor": 2
}