{
 "cells": [
  {
   "cell_type": "markdown",
   "source": [
    "#Abstract class\r\n",
    "\r\n",
    "This is a blueprint for other classes, allowing you to create methods that must be implimented in a child class.\r\n",
    "An abstract method is a method declaration, but no implimentation.\r\n",
    "This acts as an interface for components to work together."
   ],
   "metadata": {}
  },
  {
   "cell_type": "code",
   "execution_count": 10,
   "source": [
    "from abc import ABC, abstractmethod\r\n",
    "\r\n",
    "class Polygon(ABC):\r\n",
    "\r\n",
    "    @abstractmethod\r\n",
    "    def sides(self):\r\n",
    "        print(\"I have 0 sides\")"
   ],
   "outputs": [],
   "metadata": {}
  },
  {
   "cell_type": "code",
   "execution_count": 15,
   "source": [
    "#concrete implimentation of the Polygon class\r\n",
    "class Triangle(Polygon):\r\n",
    "    def hi(self):\r\n",
    "        print(\"hi\")\r\n",
    "\r\n",
    "    def sides(self):   #must impliment this method\r\n",
    "        #super().sides() #calling the base class method from a subclass\r\n",
    "        print(\"I have 3 sides\")\r\n",
    "\r\n",
    "\r\n",
    "t = Triangle()\r\n",
    "t.sides()"
   ],
   "outputs": [
    {
     "output_type": "stream",
     "name": "stdout",
     "text": [
      "I have 3 sides\n"
     ]
    }
   ],
   "metadata": {}
  },
  {
   "cell_type": "code",
   "execution_count": 13,
   "source": [
    "class Square(Polygon):\r\n",
    "    def sides(self):\r\n",
    "        print(\"I have 4 sides\")\r\n",
    "\r\n",
    "    "
   ],
   "outputs": [],
   "metadata": {}
  },
  {
   "cell_type": "code",
   "execution_count": 16,
   "source": [
    "#advantages of having these common methods\r\n",
    "#we know all polygons will impliment this method.\r\n",
    "\r\n",
    "drawings = [Square(),Triangle()]\r\n",
    "\r\n",
    "for shapes in drawings:\r\n",
    "    shapes.sides()"
   ],
   "outputs": [
    {
     "output_type": "stream",
     "name": "stdout",
     "text": [
      "I have 4 sides\n",
      "I have 3 sides\n"
     ]
    }
   ],
   "metadata": {}
  }
 ],
 "metadata": {
  "orig_nbformat": 4,
  "language_info": {
   "name": "python",
   "version": "3.9.5",
   "mimetype": "text/x-python",
   "codemirror_mode": {
    "name": "ipython",
    "version": 3
   },
   "pygments_lexer": "ipython3",
   "nbconvert_exporter": "python",
   "file_extension": ".py"
  },
  "kernelspec": {
   "name": "python3",
   "display_name": "Python 3.9.5 64-bit"
  },
  "interpreter": {
   "hash": "fcf1d46d271c46101d6967829d4a5f475342a2ce08e4944f989fbcdc9bb23690"
  }
 },
 "nbformat": 4,
 "nbformat_minor": 2
}