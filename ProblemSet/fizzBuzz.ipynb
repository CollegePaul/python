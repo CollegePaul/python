{
 "cells": [
  {
   "cell_type": "markdown",
   "source": [
    "# FizzBuzz\r\n",
    "\r\n",
    "If the number is divisible by three, the player must say, \"Fizz\" instead of the number itself; if the number is divisible by five, the player must say, \"Buzz\"; and if the number is divisible by three and five, the player has to say, \"Fizz buzz\".\r\n",
    "\r\n",
    "Print 1 to 100 (inclusive) \r\n",
    "Replace multiples of 3 with “Fizz” \r\n",
    "Replace multiples of 5 with “Buzz”\r\n",
    "Replace multiples of 3 and 5 with “Fizzbuzz”\r\n",
    "\r\n"
   ],
   "metadata": {}
  }
 ],
 "metadata": {
  "orig_nbformat": 4,
  "language_info": {
   "name": "python"
  }
 },
 "nbformat": 4,
 "nbformat_minor": 2
}