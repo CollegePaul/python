{
 "cells": [
  {
   "cell_type": "markdown",
   "source": [
    "# NCR function\r\n",
    "\r\n",
    "### Make sure you have made the factorial function first.\r\n",
    "\r\n",
    "This is a combanatoric function. It lets you calculate the number of possible options without condideration of ordering.\r\n",
    "\r\n",
    "This is the formula.\r\n",
    "\r\n",
    "![ncr](ncr.png)\r\n",
    "\r\n",
    "\r\n",
    "Eg how many ways are there to select 3 book from 5 books on a shelf.\r\n",
    "\r\n",
    "\r\n",
    "\r\n",
    "\r\n",
    "\r\n",
    "\r\n"
   ],
   "metadata": {}
  },
  {
   "cell_type": "markdown",
   "source": [
    "We can use the formula to work this out.\r\n",
    "\r\n",
    "We say  n choose r , that is we have 5 books and can choose 3\r\n",
    "\r\n",
    "5 C 3 \r\n",
    "\r\n",
    "so    we use 5 factorial    =  120  on the top\r\n",
    "\r\n",
    "and on the bottom  we have   3 factorial * (5 - 3) factorial\r\n",
    "\r\n",
    "so on the bottom we have 6 * 2 = 12\r\n",
    "\r\n",
    "120 / 12  = 10 Ways to choose 3 books out of 5 books.\r\n",
    "\r\n",
    "![ncr2](ncr2.png)\r\n",
    "\r\n",
    "\r\n",
    "\r\n",
    "\r\n"
   ],
   "metadata": {}
  },
  {
   "cell_type": "markdown",
   "source": [
    "## Make a function to calculate this. Use your factorial function."
   ],
   "metadata": {}
  }
 ],
 "metadata": {
  "orig_nbformat": 4,
  "language_info": {
   "name": "python"
  }
 },
 "nbformat": 4,
 "nbformat_minor": 2
}