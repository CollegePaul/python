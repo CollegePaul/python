{
 "cells": [
  {
   "cell_type": "markdown",
   "source": [
    "# Fibonacci Sequence\r\n",
    "\r\n",
    "The Fibonacci Sequence is the series of numbers:\r\n",
    "\r\n",
    "0, 1, 1, 2, 3, 5, 8, 13, 21, ...\r\n",
    "\r\n",
    "The next number is found by adding up the two numbers before it:\r\n",
    "\r\n",
    "the 2 is found by adding the two numbers before it (1+1),\r\n",
    "the 3 is found by adding the two numbers before it (1+2),\r\n",
    "the 5 is (2+3),\r\n",
    "and so on!\r\n",
    "\r\n",
    "## Make a programme to output the fibonacci sequence to 100"
   ],
   "metadata": {}
  }
 ],
 "metadata": {
  "orig_nbformat": 4,
  "language_info": {
   "name": "python"
  }
 },
 "nbformat": 4,
 "nbformat_minor": 2
}