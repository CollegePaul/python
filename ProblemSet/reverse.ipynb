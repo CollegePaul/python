{
 "cells": [
  {
   "cell_type": "markdown",
   "source": [
    "# Reverse a sentence\r\n",
    "\r\n",
    "Make a function that will take a string sentence, and return the sence backwards.\r\n",
    "\"bob likes dogs\" -> \"dogs likes bob\"\r\n",
    "\r\n",
    "You are not allowed to use the solution below as it does not give the correct solution. We just want the words backwards, not the letters within the words."
   ],
   "metadata": {}
  },
  {
   "cell_type": "code",
   "execution_count": 2,
   "source": [
    "sentence = \"bob likes dogs\"\r\n",
    "print (\"bob likes dogs\"[::-1])"
   ],
   "outputs": [
    {
     "output_type": "stream",
     "name": "stdout",
     "text": [
      "sgod sekil bob\n"
     ]
    }
   ],
   "metadata": {}
  }
 ],
 "metadata": {
  "orig_nbformat": 4,
  "language_info": {
   "name": "python"
  }
 },
 "nbformat": 4,
 "nbformat_minor": 2
}