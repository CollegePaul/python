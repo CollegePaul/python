{
 "cells": [
  {
   "cell_type": "markdown",
   "source": [
    "# Make a frame\r\n",
    "\r\n",
    "Write a function that takes a list of strings and prints them, one per line, in a rectangular frame.\r\n",
    " For example the list [\"Hello\", \"World\", \"in\", \"a\", \"frame\"] gets printed as:\r\n",
    "\r\n",
    "![frame](frame.png)"
   ],
   "metadata": {}
  }
 ],
 "metadata": {
  "orig_nbformat": 4,
  "language_info": {
   "name": "python"
  }
 },
 "nbformat": 4,
 "nbformat_minor": 2
}