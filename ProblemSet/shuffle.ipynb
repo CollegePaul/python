{
 "cells": [
  {
   "cell_type": "markdown",
   "source": [
    "# Shuffle the digits 0-9\r\n",
    "\r\n",
    "Please Shuffle the digits below, complete the function that will take the list as an input, and return a shuffled list. You may write more than 1 function. Delete the word 'pass' and put your code there."
   ],
   "metadata": {}
  },
  {
   "cell_type": "code",
   "execution_count": 1,
   "source": [
    "def shuffle(digits):\r\n",
    "    pass"
   ],
   "outputs": [],
   "metadata": {}
  },
  {
   "cell_type": "markdown",
   "source": [
    "The code below the function will be sent to your function above and the print out the response."
   ],
   "metadata": {}
  },
  {
   "cell_type": "code",
   "execution_count": 2,
   "source": [
    "myList = [0,1,2,3,4,5,6,7,8,9]\r\n",
    "print(shuffle(myList))"
   ],
   "outputs": [
    {
     "output_type": "stream",
     "name": "stdout",
     "text": [
      "None\n"
     ]
    }
   ],
   "metadata": {}
  }
 ],
 "metadata": {
  "orig_nbformat": 4,
  "language_info": {
   "name": "python"
  }
 },
 "nbformat": 4,
 "nbformat_minor": 2
}