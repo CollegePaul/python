{
 "cells": [
  {
   "cell_type": "markdown",
   "source": [
    "# Spreadsheet problem\r\n",
    "\r\n",
    "While wting some code to process some data i had to know a cells number.\r\n",
    "\r\n",
    "eg the Cell may be (D,1) pictured in green\r\n",
    "\r\n",
    "![frame](sheet.png)"
   ],
   "metadata": {}
  },
  {
   "cell_type": "markdown",
   "source": [
    "This would be (4,1) in the code.  A = 1  , B =2 , C = 3\r\n",
    "But futher along this was not so easy to count, eg what would (AO, 1) be as a number?\r\n",
    "\r\n",
    "We know Z is 26, so AA will be 27.\r\n",
    "\r\n",
    "The blue square would be at (41,1)\r\n",
    "\r\n",
    "Make a programme where you can input upto 3 letters, and it will convert this to a number.\r\n",
    "\r\n",
    "eg  DHL  what number cell would this be?\r\n",
    "\r\n",
    "(Hint - Think about number bases, like 12 hour and 24 hours clocks)\r\n"
   ],
   "metadata": {}
  }
 ],
 "metadata": {
  "orig_nbformat": 4,
  "language_info": {
   "name": "python"
  }
 },
 "nbformat": 4,
 "nbformat_minor": 2
}