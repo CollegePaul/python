{
 "cells": [
  {
   "cell_type": "markdown",
   "source": [
    "# Anagram\r\n",
    "\r\n",
    "Write a function that takes two words as an argument and returns true if they are anagrams (contain the exact same letters) and false otherwise. Ignore spaces and capitalisation.\r\n",
    "\r\n",
    "“dog” and “god”    = TRUE\r\n",
    "\r\n",
    "“listen”   and  “silent”   = TRUE\r\n",
    "\r\n",
    "“debit card” and “bad credit”  = TRUE\r\n",
    "\r\n",
    "“astronomer” and “moon starer”  = TRUE\r\n",
    "\r\n",
    "“stare” and “taste” = FALSE\r\n"
   ],
   "metadata": {}
  }
 ],
 "metadata": {
  "orig_nbformat": 4,
  "language_info": {
   "name": "python"
  }
 },
 "nbformat": 4,
 "nbformat_minor": 2
}