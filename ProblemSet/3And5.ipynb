{
 "cells": [
  {
   "cell_type": "markdown",
   "source": [
    "# 3 and 5\r\n",
    "\r\n",
    "Make a programme that will print all multiples of 3 and of 5 below 100\r\n",
    "\r\n",
    "eg 9 , 25, 30\r\n",
    "\r\n"
   ],
   "metadata": {}
  }
 ],
 "metadata": {
  "orig_nbformat": 4,
  "language_info": {
   "name": "python"
  }
 },
 "nbformat": 4,
 "nbformat_minor": 2
}