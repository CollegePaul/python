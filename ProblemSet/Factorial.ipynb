{
 "cells": [
  {
   "cell_type": "markdown",
   "source": [
    "# Factorial\r\n",
    "\r\n",
    "Make a function that will return the factorial of a number.\r\n",
    "\r\n",
    "Factorial is the product of all positive intergers less than and equal to your number.\r\n",
    "\r\n",
    "eg 5 Factorial is   5 * 4 * 3 * 2 * 1\r\n",
    "\r\n",
    "= 120\r\n",
    "\r\n",
    "\r\n"
   ],
   "metadata": {}
  }
 ],
 "metadata": {
  "orig_nbformat": 4,
  "language_info": {
   "name": "python"
  }
 },
 "nbformat": 4,
 "nbformat_minor": 2
}