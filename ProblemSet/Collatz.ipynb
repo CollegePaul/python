{
 "cells": [
  {
   "cell_type": "markdown",
   "source": [
    "# The Collatz Conjecture\r\n",
    "\r\n",
    "This is a mathamatical conjecture proposed in 1937\r\n",
    "\r\n",
    "Start with a positive integer, the next term is obtained:\r\n",
    "\r\n",
    "if the previous term was even, the next term will be half.\r\n",
    "eg  if you input 10, the next in the sequence will be 5\r\n",
    "\r\n",
    "if the previous term is odd, then next term will be  3x  +  1\r\n",
    "eg if you enter 5, the next term will be 16  ( 5 x 3 + 1)\r\n",
    "\r\n"
   ],
   "metadata": {}
  },
  {
   "cell_type": "markdown",
   "source": [
    "eg if you enter 10 at the start....the sequence will be\r\n",
    "\r\n",
    "   5.0 ,\r\n",
    "   16.0 ,\r\n",
    "   8.0 ,\r\n",
    "   4.0 ,\r\n",
    "   2.0 ,\r\n",
    "   1.0 ,\r\n",
    "\r\n",
    "   = 6 steps\r\n",
    "\r\n"
   ],
   "metadata": {}
  },
  {
   "cell_type": "markdown",
   "source": [
    "### The conjecture states, for any number it will always reach 1 at the end.\r\n",
    "\r\n",
    "Make a program to calculate the number of steps for a starting number.\r\n",
    "\r\n",
    "\r\n",
    "Try it with the number 27\r\n"
   ],
   "metadata": {}
  }
 ],
 "metadata": {
  "orig_nbformat": 4,
  "language_info": {
   "name": "python"
  }
 },
 "nbformat": 4,
 "nbformat_minor": 2
}