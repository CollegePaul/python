{
 "cells": [
  {
   "cell_type": "code",
   "execution_count": 1,
   "metadata": {},
   "outputs": [],
   "source": [
    "import sympy as sym\n",
    "x = sym.Symbol('x')"
   ]
  },
  {
   "cell_type": "code",
   "execution_count": 2,
   "metadata": {},
   "outputs": [
    {
     "data": {
      "text/latex": [
       "$\\displaystyle \\frac{\\sqrt{2}}{2 \\sqrt{x}}$"
      ],
      "text/plain": [
       "sqrt(2)/(2*sqrt(x))"
      ]
     },
     "execution_count": 2,
     "metadata": {},
     "output_type": "execute_result"
    }
   ],
   "source": [
    "#Power Rule  f'(x**n) = nx**(n-1)\n",
    "#f = x**5    #x to the power of 5\n",
    "f = sym.sqrt(2*x)\n",
    "derivative_f = f.diff(x)\n",
    "derivative_f\n"
   ]
  },
  {
   "cell_type": "code",
   "execution_count": 3,
   "metadata": {},
   "outputs": [
    {
     "data": {
      "text/latex": [
       "$\\displaystyle 2 x^{6} + 5 x^{4} \\left(x^{2} + 5\\right)$"
      ],
      "text/plain": [
       "2*x**6 + 5*x**4*(x**2 + 5)"
      ]
     },
     "execution_count": 3,
     "metadata": {},
     "output_type": "execute_result"
    }
   ],
   "source": [
    "#Product Rule   f(gh) = g'h + gh'\n",
    "g = x**5 \n",
    "h = x**2 + 5\n",
    "f = g*h\n",
    "derivative_f = f.diff(x)\n",
    "derivative_f"
   ]
  }
 ],
 "metadata": {
  "kernelspec": {
   "display_name": "Python 3.10.7 64-bit",
   "language": "python",
   "name": "python3"
  },
  "language_info": {
   "codemirror_mode": {
    "name": "ipython",
    "version": 3
   },
   "file_extension": ".py",
   "mimetype": "text/x-python",
   "name": "python",
   "nbconvert_exporter": "python",
   "pygments_lexer": "ipython3",
   "version": "3.10.7"
  },
  "orig_nbformat": 4,
  "vscode": {
   "interpreter": {
    "hash": "7d0c6fe0cab379f29313ac30953e2251f26af92c8a6023531e800225f0809840"
   }
  }
 },
 "nbformat": 4,
 "nbformat_minor": 2
}
